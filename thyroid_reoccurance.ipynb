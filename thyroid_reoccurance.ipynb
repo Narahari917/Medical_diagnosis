{
 "cells": [
  {
   "cell_type": "code",
   "execution_count": 1,
   "id": "1d3a0692",
   "metadata": {},
   "outputs": [
    {
     "name": "stderr",
     "output_type": "stream",
     "text": [
      "C:\\Users\\narah\\anaconda3\\lib\\site-packages\\scipy\\__init__.py:177: UserWarning: A NumPy version >=1.18.5 and <1.26.0 is required for this version of SciPy (detected version 1.26.1\n",
      "  warnings.warn(f\"A NumPy version >={np_minversion} and <{np_maxversion}\"\n"
     ]
    }
   ],
   "source": [
    "import pandas as pd\n",
    "import matplotlib.pyplot as plt\n",
    "import numpy as np\n",
    "%matplotlib inline\n",
    "import tensorflow as tf\n",
    "from tensorflow.keras.models import Sequential\n",
    "from tensorflow.keras.layers import Dense, Dropout, Activation, Flatten\n",
    "from tensorflow.keras.layers import Conv2D, MaxPooling2D\n",
    "# more info on callbakcs: https://keras.io/callbacks/ model saver is cool too.\n",
    "from tensorflow.keras.callbacks import TensorBoard\n",
    "from imblearn.over_sampling import RandomOverSampler\n",
    "import pickle\n",
    "import time"
   ]
  },
  {
   "cell_type": "code",
   "execution_count": 2,
   "id": "4064beeb",
   "metadata": {},
   "outputs": [],
   "source": [
    "df = pd.read_csv('./datasets/thyroid.csv')"
   ]
  },
  {
   "cell_type": "code",
   "execution_count": 3,
   "id": "11e62f0b",
   "metadata": {},
   "outputs": [
    {
     "data": {
      "text/html": [
       "<div>\n",
       "<style scoped>\n",
       "    .dataframe tbody tr th:only-of-type {\n",
       "        vertical-align: middle;\n",
       "    }\n",
       "\n",
       "    .dataframe tbody tr th {\n",
       "        vertical-align: top;\n",
       "    }\n",
       "\n",
       "    .dataframe thead th {\n",
       "        text-align: right;\n",
       "    }\n",
       "</style>\n",
       "<table border=\"1\" class=\"dataframe\">\n",
       "  <thead>\n",
       "    <tr style=\"text-align: right;\">\n",
       "      <th></th>\n",
       "      <th>Age</th>\n",
       "      <th>Gender</th>\n",
       "      <th>Smoking</th>\n",
       "      <th>Hx Smoking</th>\n",
       "      <th>Hx Radiothreapy</th>\n",
       "      <th>Thyroid Function</th>\n",
       "      <th>Physical Examination</th>\n",
       "      <th>Adenopathy</th>\n",
       "      <th>Pathology</th>\n",
       "      <th>Focality</th>\n",
       "      <th>Risk</th>\n",
       "      <th>T</th>\n",
       "      <th>N</th>\n",
       "      <th>M</th>\n",
       "      <th>Stage</th>\n",
       "      <th>Response</th>\n",
       "      <th>Recurred</th>\n",
       "    </tr>\n",
       "  </thead>\n",
       "  <tbody>\n",
       "    <tr>\n",
       "      <th>0</th>\n",
       "      <td>27</td>\n",
       "      <td>F</td>\n",
       "      <td>No</td>\n",
       "      <td>No</td>\n",
       "      <td>No</td>\n",
       "      <td>Euthyroid</td>\n",
       "      <td>Single nodular goiter-left</td>\n",
       "      <td>No</td>\n",
       "      <td>Micropapillary</td>\n",
       "      <td>Uni-Focal</td>\n",
       "      <td>Low</td>\n",
       "      <td>T1a</td>\n",
       "      <td>N0</td>\n",
       "      <td>M0</td>\n",
       "      <td>I</td>\n",
       "      <td>Indeterminate</td>\n",
       "      <td>No</td>\n",
       "    </tr>\n",
       "    <tr>\n",
       "      <th>1</th>\n",
       "      <td>34</td>\n",
       "      <td>F</td>\n",
       "      <td>No</td>\n",
       "      <td>Yes</td>\n",
       "      <td>No</td>\n",
       "      <td>Euthyroid</td>\n",
       "      <td>Multinodular goiter</td>\n",
       "      <td>No</td>\n",
       "      <td>Micropapillary</td>\n",
       "      <td>Uni-Focal</td>\n",
       "      <td>Low</td>\n",
       "      <td>T1a</td>\n",
       "      <td>N0</td>\n",
       "      <td>M0</td>\n",
       "      <td>I</td>\n",
       "      <td>Excellent</td>\n",
       "      <td>No</td>\n",
       "    </tr>\n",
       "    <tr>\n",
       "      <th>2</th>\n",
       "      <td>30</td>\n",
       "      <td>F</td>\n",
       "      <td>No</td>\n",
       "      <td>No</td>\n",
       "      <td>No</td>\n",
       "      <td>Euthyroid</td>\n",
       "      <td>Single nodular goiter-right</td>\n",
       "      <td>No</td>\n",
       "      <td>Micropapillary</td>\n",
       "      <td>Uni-Focal</td>\n",
       "      <td>Low</td>\n",
       "      <td>T1a</td>\n",
       "      <td>N0</td>\n",
       "      <td>M0</td>\n",
       "      <td>I</td>\n",
       "      <td>Excellent</td>\n",
       "      <td>No</td>\n",
       "    </tr>\n",
       "    <tr>\n",
       "      <th>3</th>\n",
       "      <td>62</td>\n",
       "      <td>F</td>\n",
       "      <td>No</td>\n",
       "      <td>No</td>\n",
       "      <td>No</td>\n",
       "      <td>Euthyroid</td>\n",
       "      <td>Single nodular goiter-right</td>\n",
       "      <td>No</td>\n",
       "      <td>Micropapillary</td>\n",
       "      <td>Uni-Focal</td>\n",
       "      <td>Low</td>\n",
       "      <td>T1a</td>\n",
       "      <td>N0</td>\n",
       "      <td>M0</td>\n",
       "      <td>I</td>\n",
       "      <td>Excellent</td>\n",
       "      <td>No</td>\n",
       "    </tr>\n",
       "    <tr>\n",
       "      <th>4</th>\n",
       "      <td>62</td>\n",
       "      <td>F</td>\n",
       "      <td>No</td>\n",
       "      <td>No</td>\n",
       "      <td>No</td>\n",
       "      <td>Euthyroid</td>\n",
       "      <td>Multinodular goiter</td>\n",
       "      <td>No</td>\n",
       "      <td>Micropapillary</td>\n",
       "      <td>Multi-Focal</td>\n",
       "      <td>Low</td>\n",
       "      <td>T1a</td>\n",
       "      <td>N0</td>\n",
       "      <td>M0</td>\n",
       "      <td>I</td>\n",
       "      <td>Excellent</td>\n",
       "      <td>No</td>\n",
       "    </tr>\n",
       "  </tbody>\n",
       "</table>\n",
       "</div>"
      ],
      "text/plain": [
       "   Age Gender Smoking Hx Smoking Hx Radiothreapy Thyroid Function  \\\n",
       "0   27      F      No         No              No        Euthyroid   \n",
       "1   34      F      No        Yes              No        Euthyroid   \n",
       "2   30      F      No         No              No        Euthyroid   \n",
       "3   62      F      No         No              No        Euthyroid   \n",
       "4   62      F      No         No              No        Euthyroid   \n",
       "\n",
       "          Physical Examination Adenopathy       Pathology     Focality Risk  \\\n",
       "0   Single nodular goiter-left         No  Micropapillary    Uni-Focal  Low   \n",
       "1          Multinodular goiter         No  Micropapillary    Uni-Focal  Low   \n",
       "2  Single nodular goiter-right         No  Micropapillary    Uni-Focal  Low   \n",
       "3  Single nodular goiter-right         No  Micropapillary    Uni-Focal  Low   \n",
       "4          Multinodular goiter         No  Micropapillary  Multi-Focal  Low   \n",
       "\n",
       "     T   N   M Stage       Response Recurred  \n",
       "0  T1a  N0  M0     I  Indeterminate       No  \n",
       "1  T1a  N0  M0     I      Excellent       No  \n",
       "2  T1a  N0  M0     I      Excellent       No  \n",
       "3  T1a  N0  M0     I      Excellent       No  \n",
       "4  T1a  N0  M0     I      Excellent       No  "
      ]
     },
     "execution_count": 3,
     "metadata": {},
     "output_type": "execute_result"
    }
   ],
   "source": [
    "df.head()"
   ]
  },
  {
   "cell_type": "code",
   "execution_count": 4,
   "id": "d1940dab",
   "metadata": {},
   "outputs": [
    {
     "data": {
      "text/plain": [
       "Age                     0\n",
       "Gender                  0\n",
       "Smoking                 0\n",
       "Hx Smoking              0\n",
       "Hx Radiothreapy         0\n",
       "Thyroid Function        0\n",
       "Physical Examination    0\n",
       "Adenopathy              0\n",
       "Pathology               0\n",
       "Focality                0\n",
       "Risk                    0\n",
       "T                       0\n",
       "N                       0\n",
       "M                       0\n",
       "Stage                   0\n",
       "Response                0\n",
       "Recurred                0\n",
       "dtype: int64"
      ]
     },
     "execution_count": 4,
     "metadata": {},
     "output_type": "execute_result"
    }
   ],
   "source": [
    "df.isnull().sum()"
   ]
  },
  {
   "cell_type": "code",
   "execution_count": 5,
   "id": "87bf02f2",
   "metadata": {},
   "outputs": [
    {
     "data": {
      "text/plain": [
       "(383, 17)"
      ]
     },
     "execution_count": 5,
     "metadata": {},
     "output_type": "execute_result"
    }
   ],
   "source": [
    "df.shape"
   ]
  },
  {
   "cell_type": "code",
   "execution_count": 6,
   "id": "53c175db",
   "metadata": {},
   "outputs": [
    {
     "data": {
      "text/plain": [
       "<bound method Series.unique of 0      27\n",
       "1      34\n",
       "2      30\n",
       "3      62\n",
       "4      62\n",
       "       ..\n",
       "378    72\n",
       "379    81\n",
       "380    72\n",
       "381    61\n",
       "382    67\n",
       "Name: Age, Length: 383, dtype: int64>"
      ]
     },
     "execution_count": 6,
     "metadata": {},
     "output_type": "execute_result"
    }
   ],
   "source": [
    "df['Age'].unique"
   ]
  },
  {
   "cell_type": "code",
   "execution_count": 7,
   "id": "b37b00a6",
   "metadata": {},
   "outputs": [],
   "source": [
    "labels = df.columns.tolist()\n",
    "for x in ['Age','Stage']:\n",
    "    labels.remove(x)"
   ]
  },
  {
   "cell_type": "code",
   "execution_count": 8,
   "id": "002019b9",
   "metadata": {},
   "outputs": [
    {
     "data": {
      "text/plain": [
       "['Gender',\n",
       " 'Smoking',\n",
       " 'Hx Smoking',\n",
       " 'Hx Radiothreapy',\n",
       " 'Thyroid Function',\n",
       " 'Physical Examination',\n",
       " 'Adenopathy',\n",
       " 'Pathology',\n",
       " 'Focality',\n",
       " 'Risk',\n",
       " 'T',\n",
       " 'N',\n",
       " 'M',\n",
       " 'Response',\n",
       " 'Recurred']"
      ]
     },
     "execution_count": 8,
     "metadata": {},
     "output_type": "execute_result"
    }
   ],
   "source": [
    "labels"
   ]
  },
  {
   "cell_type": "code",
   "execution_count": 9,
   "id": "80c18692",
   "metadata": {},
   "outputs": [],
   "source": [
    "from sklearn.preprocessing import LabelEncoder\n",
    "for column in df.columns:\n",
    "    df[column] = LabelEncoder().fit_transform(df[column])"
   ]
  },
  {
   "cell_type": "code",
   "execution_count": 10,
   "id": "2689b6fe",
   "metadata": {},
   "outputs": [
    {
     "data": {
      "text/html": [
       "<div>\n",
       "<style scoped>\n",
       "    .dataframe tbody tr th:only-of-type {\n",
       "        vertical-align: middle;\n",
       "    }\n",
       "\n",
       "    .dataframe tbody tr th {\n",
       "        vertical-align: top;\n",
       "    }\n",
       "\n",
       "    .dataframe thead th {\n",
       "        text-align: right;\n",
       "    }\n",
       "</style>\n",
       "<table border=\"1\" class=\"dataframe\">\n",
       "  <thead>\n",
       "    <tr style=\"text-align: right;\">\n",
       "      <th></th>\n",
       "      <th>Age</th>\n",
       "      <th>Gender</th>\n",
       "      <th>Smoking</th>\n",
       "      <th>Hx Smoking</th>\n",
       "      <th>Hx Radiothreapy</th>\n",
       "      <th>Thyroid Function</th>\n",
       "      <th>Physical Examination</th>\n",
       "      <th>Adenopathy</th>\n",
       "      <th>Pathology</th>\n",
       "      <th>Focality</th>\n",
       "      <th>Risk</th>\n",
       "      <th>T</th>\n",
       "      <th>N</th>\n",
       "      <th>M</th>\n",
       "      <th>Stage</th>\n",
       "      <th>Response</th>\n",
       "      <th>Recurred</th>\n",
       "    </tr>\n",
       "  </thead>\n",
       "  <tbody>\n",
       "    <tr>\n",
       "      <th>0</th>\n",
       "      <td>11</td>\n",
       "      <td>0</td>\n",
       "      <td>0</td>\n",
       "      <td>0</td>\n",
       "      <td>0</td>\n",
       "      <td>2</td>\n",
       "      <td>3</td>\n",
       "      <td>3</td>\n",
       "      <td>2</td>\n",
       "      <td>1</td>\n",
       "      <td>2</td>\n",
       "      <td>0</td>\n",
       "      <td>0</td>\n",
       "      <td>0</td>\n",
       "      <td>0</td>\n",
       "      <td>2</td>\n",
       "      <td>0</td>\n",
       "    </tr>\n",
       "    <tr>\n",
       "      <th>1</th>\n",
       "      <td>18</td>\n",
       "      <td>0</td>\n",
       "      <td>0</td>\n",
       "      <td>1</td>\n",
       "      <td>0</td>\n",
       "      <td>2</td>\n",
       "      <td>1</td>\n",
       "      <td>3</td>\n",
       "      <td>2</td>\n",
       "      <td>1</td>\n",
       "      <td>2</td>\n",
       "      <td>0</td>\n",
       "      <td>0</td>\n",
       "      <td>0</td>\n",
       "      <td>0</td>\n",
       "      <td>1</td>\n",
       "      <td>0</td>\n",
       "    </tr>\n",
       "    <tr>\n",
       "      <th>2</th>\n",
       "      <td>14</td>\n",
       "      <td>0</td>\n",
       "      <td>0</td>\n",
       "      <td>0</td>\n",
       "      <td>0</td>\n",
       "      <td>2</td>\n",
       "      <td>4</td>\n",
       "      <td>3</td>\n",
       "      <td>2</td>\n",
       "      <td>1</td>\n",
       "      <td>2</td>\n",
       "      <td>0</td>\n",
       "      <td>0</td>\n",
       "      <td>0</td>\n",
       "      <td>0</td>\n",
       "      <td>1</td>\n",
       "      <td>0</td>\n",
       "    </tr>\n",
       "    <tr>\n",
       "      <th>3</th>\n",
       "      <td>46</td>\n",
       "      <td>0</td>\n",
       "      <td>0</td>\n",
       "      <td>0</td>\n",
       "      <td>0</td>\n",
       "      <td>2</td>\n",
       "      <td>4</td>\n",
       "      <td>3</td>\n",
       "      <td>2</td>\n",
       "      <td>1</td>\n",
       "      <td>2</td>\n",
       "      <td>0</td>\n",
       "      <td>0</td>\n",
       "      <td>0</td>\n",
       "      <td>0</td>\n",
       "      <td>1</td>\n",
       "      <td>0</td>\n",
       "    </tr>\n",
       "    <tr>\n",
       "      <th>4</th>\n",
       "      <td>46</td>\n",
       "      <td>0</td>\n",
       "      <td>0</td>\n",
       "      <td>0</td>\n",
       "      <td>0</td>\n",
       "      <td>2</td>\n",
       "      <td>1</td>\n",
       "      <td>3</td>\n",
       "      <td>2</td>\n",
       "      <td>0</td>\n",
       "      <td>2</td>\n",
       "      <td>0</td>\n",
       "      <td>0</td>\n",
       "      <td>0</td>\n",
       "      <td>0</td>\n",
       "      <td>1</td>\n",
       "      <td>0</td>\n",
       "    </tr>\n",
       "  </tbody>\n",
       "</table>\n",
       "</div>"
      ],
      "text/plain": [
       "   Age  Gender  Smoking  Hx Smoking  Hx Radiothreapy  Thyroid Function  \\\n",
       "0   11       0        0           0                0                 2   \n",
       "1   18       0        0           1                0                 2   \n",
       "2   14       0        0           0                0                 2   \n",
       "3   46       0        0           0                0                 2   \n",
       "4   46       0        0           0                0                 2   \n",
       "\n",
       "   Physical Examination  Adenopathy  Pathology  Focality  Risk  T  N  M  \\\n",
       "0                     3           3          2         1     2  0  0  0   \n",
       "1                     1           3          2         1     2  0  0  0   \n",
       "2                     4           3          2         1     2  0  0  0   \n",
       "3                     4           3          2         1     2  0  0  0   \n",
       "4                     1           3          2         0     2  0  0  0   \n",
       "\n",
       "   Stage  Response  Recurred  \n",
       "0      0         2         0  \n",
       "1      0         1         0  \n",
       "2      0         1         0  \n",
       "3      0         1         0  \n",
       "4      0         1         0  "
      ]
     },
     "execution_count": 10,
     "metadata": {},
     "output_type": "execute_result"
    }
   ],
   "source": [
    "df.head()"
   ]
  },
  {
   "cell_type": "code",
   "execution_count": 11,
   "id": "a7bd647a",
   "metadata": {},
   "outputs": [
    {
     "data": {
      "text/plain": [
       "<bound method Series.unique of 0      11\n",
       "1      18\n",
       "2      14\n",
       "3      46\n",
       "4      46\n",
       "       ..\n",
       "378    56\n",
       "379    63\n",
       "380    56\n",
       "381    45\n",
       "382    51\n",
       "Name: Age, Length: 383, dtype: int64>"
      ]
     },
     "execution_count": 11,
     "metadata": {},
     "output_type": "execute_result"
    }
   ],
   "source": [
    "df['Age'].unique"
   ]
  },
  {
   "cell_type": "code",
   "execution_count": 12,
   "id": "e45eb29f",
   "metadata": {},
   "outputs": [
    {
     "name": "stdout",
     "output_type": "stream",
     "text": [
      "<class 'pandas.core.frame.DataFrame'>\n",
      "RangeIndex: 383 entries, 0 to 382\n",
      "Data columns (total 17 columns):\n",
      " #   Column                Non-Null Count  Dtype\n",
      "---  ------                --------------  -----\n",
      " 0   Age                   383 non-null    int64\n",
      " 1   Gender                383 non-null    int32\n",
      " 2   Smoking               383 non-null    int32\n",
      " 3   Hx Smoking            383 non-null    int32\n",
      " 4   Hx Radiothreapy       383 non-null    int32\n",
      " 5   Thyroid Function      383 non-null    int32\n",
      " 6   Physical Examination  383 non-null    int32\n",
      " 7   Adenopathy            383 non-null    int32\n",
      " 8   Pathology             383 non-null    int32\n",
      " 9   Focality              383 non-null    int32\n",
      " 10  Risk                  383 non-null    int32\n",
      " 11  T                     383 non-null    int32\n",
      " 12  N                     383 non-null    int32\n",
      " 13  M                     383 non-null    int32\n",
      " 14  Stage                 383 non-null    int32\n",
      " 15  Response              383 non-null    int32\n",
      " 16  Recurred              383 non-null    int32\n",
      "dtypes: int32(16), int64(1)\n",
      "memory usage: 27.1 KB\n"
     ]
    }
   ],
   "source": [
    "df.info()"
   ]
  },
  {
   "cell_type": "code",
   "execution_count": 13,
   "id": "63aae109",
   "metadata": {},
   "outputs": [],
   "source": [
    "X = df.drop(columns=['Recurred'])\n",
    "y = df['Recurred']"
   ]
  },
  {
   "cell_type": "code",
   "execution_count": 14,
   "id": "74941f4b",
   "metadata": {},
   "outputs": [],
   "source": [
    "y = np.reshape(y.values,(y.shape[0],1))"
   ]
  },
  {
   "cell_type": "code",
   "execution_count": 15,
   "id": "9a0250cb",
   "metadata": {},
   "outputs": [],
   "source": [
    "from sklearn.preprocessing import StandardScaler\n",
    "scaler = StandardScaler()\n",
    "X = scaler.fit_transform(X)\n",
    "new_data = np.hstack((X, np.reshape(y[:], (-1, 1))))\n",
    "transformed_df = pd.DataFrame(df, columns = df.columns)"
   ]
  },
  {
   "cell_type": "code",
   "execution_count": 16,
   "id": "c4116b9c",
   "metadata": {},
   "outputs": [
    {
     "data": {
      "text/plain": [
       "(383, 16)"
      ]
     },
     "execution_count": 16,
     "metadata": {},
     "output_type": "execute_result"
    }
   ],
   "source": [
    "X.shape"
   ]
  },
  {
   "cell_type": "code",
   "execution_count": 17,
   "id": "febda258",
   "metadata": {},
   "outputs": [
    {
     "data": {
      "text/plain": [
       "(383, 1)"
      ]
     },
     "execution_count": 17,
     "metadata": {},
     "output_type": "execute_result"
    }
   ],
   "source": [
    "y.shape"
   ]
  },
  {
   "cell_type": "code",
   "execution_count": 18,
   "id": "84baa615",
   "metadata": {},
   "outputs": [
    {
     "name": "stdout",
     "output_type": "stream",
     "text": [
      "Epoch 1/20\n",
      "54/54 [==============================] - 1s 12ms/step - loss: 0.7404 - accuracy: 0.4067 - val_loss: 0.8270 - val_accuracy: 0.4609\n",
      "Epoch 2/20\n",
      "54/54 [==============================] - 0s 6ms/step - loss: 0.5496 - accuracy: 0.8806 - val_loss: 0.9706 - val_accuracy: 0.3478\n",
      "Epoch 3/20\n",
      "54/54 [==============================] - 0s 6ms/step - loss: 0.4182 - accuracy: 0.9030 - val_loss: 1.0804 - val_accuracy: 0.3043\n",
      "Epoch 4/20\n",
      "54/54 [==============================] - 0s 7ms/step - loss: 0.3397 - accuracy: 0.9067 - val_loss: 1.1265 - val_accuracy: 0.3043\n",
      "Epoch 5/20\n",
      "54/54 [==============================] - 0s 6ms/step - loss: 0.2919 - accuracy: 0.9067 - val_loss: 1.1381 - val_accuracy: 0.3217\n",
      "Epoch 6/20\n",
      "54/54 [==============================] - 0s 6ms/step - loss: 0.2584 - accuracy: 0.9067 - val_loss: 1.0790 - val_accuracy: 0.3478\n",
      "Epoch 7/20\n",
      "54/54 [==============================] - 0s 6ms/step - loss: 0.2328 - accuracy: 0.9142 - val_loss: 1.0141 - val_accuracy: 0.3478\n",
      "Epoch 8/20\n",
      "54/54 [==============================] - 0s 5ms/step - loss: 0.2109 - accuracy: 0.9142 - val_loss: 0.9517 - val_accuracy: 0.3826\n",
      "Epoch 9/20\n",
      "54/54 [==============================] - 0s 5ms/step - loss: 0.1919 - accuracy: 0.9142 - val_loss: 0.9157 - val_accuracy: 0.4000\n",
      "Epoch 10/20\n",
      "54/54 [==============================] - 0s 6ms/step - loss: 0.1757 - accuracy: 0.9328 - val_loss: 0.8723 - val_accuracy: 0.5043\n",
      "Epoch 11/20\n",
      "54/54 [==============================] - 0s 6ms/step - loss: 0.1630 - accuracy: 0.9478 - val_loss: 0.8203 - val_accuracy: 0.5652\n",
      "Epoch 12/20\n",
      "54/54 [==============================] - 0s 6ms/step - loss: 0.1500 - accuracy: 0.9552 - val_loss: 0.7944 - val_accuracy: 0.5913\n",
      "Epoch 13/20\n",
      "54/54 [==============================] - 0s 5ms/step - loss: 0.1392 - accuracy: 0.9627 - val_loss: 0.7759 - val_accuracy: 0.6174\n",
      "Epoch 14/20\n",
      "54/54 [==============================] - 0s 5ms/step - loss: 0.1305 - accuracy: 0.9627 - val_loss: 0.7749 - val_accuracy: 0.6174\n",
      "Epoch 15/20\n",
      "54/54 [==============================] - 0s 5ms/step - loss: 0.1228 - accuracy: 0.9739 - val_loss: 0.7405 - val_accuracy: 0.6609\n",
      "Epoch 16/20\n",
      "54/54 [==============================] - 0s 4ms/step - loss: 0.1168 - accuracy: 0.9776 - val_loss: 0.7726 - val_accuracy: 0.6522\n",
      "Epoch 17/20\n",
      "54/54 [==============================] - 0s 5ms/step - loss: 0.1106 - accuracy: 0.9813 - val_loss: 0.7762 - val_accuracy: 0.6522\n",
      "Epoch 18/20\n",
      "54/54 [==============================] - 0s 6ms/step - loss: 0.1058 - accuracy: 0.9776 - val_loss: 0.7790 - val_accuracy: 0.6609\n",
      "Epoch 19/20\n",
      "54/54 [==============================] - 0s 6ms/step - loss: 0.1019 - accuracy: 0.9813 - val_loss: 0.7717 - val_accuracy: 0.6783\n",
      "Epoch 20/20\n",
      "54/54 [==============================] - 0s 5ms/step - loss: 0.0982 - accuracy: 0.9813 - val_loss: 0.8225 - val_accuracy: 0.6696\n"
     ]
    }
   ],
   "source": [
    "\n",
    "\n",
    "dense_layers = [1]\n",
    "layer_sizes = [16]\n",
    "\n",
    "\n",
    "for dense_layer in dense_layers:\n",
    "    for layer_size in layer_sizes:\n",
    "        model = Sequential()\n",
    "        model.add(Activation('relu'))\n",
    "        model.add(Flatten())\n",
    "\n",
    "        for _ in range(dense_layer):\n",
    "            model.add(Dense(layer_size))\n",
    "            model.add(Activation('relu'))\n",
    "\n",
    "        model.add(Dense(1))\n",
    "        model.add(Activation('sigmoid'))\n",
    "        NAME = \"{}-nodes-{}-dense-{}\".format( layer_size, dense_layer, int(time.time()))\n",
    "        tensorboard = TensorBoard(log_dir=\"logs/{}\".format(NAME))\n",
    "\n",
    "        model.compile(loss='binary_crossentropy',optimizer='adam',metrics=['accuracy'],\n",
    "                          )\n",
    "        model.fit(X, y,batch_size=5,epochs=20,validation_split = 0.3,callbacks=[tensorboard])\n"
   ]
  },
  {
   "cell_type": "code",
   "execution_count": 19,
   "id": "f7855dfe",
   "metadata": {},
   "outputs": [
    {
     "name": "stdout",
     "output_type": "stream",
     "text": [
      "Model: \"sequential\"\n",
      "_________________________________________________________________\n",
      " Layer (type)                Output Shape              Param #   \n",
      "=================================================================\n",
      " activation (Activation)     (None, 16)                0         \n",
      "                                                                 \n",
      " flatten (Flatten)           (None, 16)                0         \n",
      "                                                                 \n",
      " dense (Dense)               (None, 16)                272       \n",
      "                                                                 \n",
      " activation_1 (Activation)   (None, 16)                0         \n",
      "                                                                 \n",
      " dense_1 (Dense)             (None, 1)                 17        \n",
      "                                                                 \n",
      " activation_2 (Activation)   (None, 1)                 0         \n",
      "                                                                 \n",
      "=================================================================\n",
      "Total params: 289 (1.13 KB)\n",
      "Trainable params: 289 (1.13 KB)\n",
      "Non-trainable params: 0 (0.00 Byte)\n",
      "_________________________________________________________________\n"
     ]
    }
   ],
   "source": [
    "model.summary()"
   ]
  },
  {
   "cell_type": "code",
   "execution_count": 20,
   "id": "5cf97c17",
   "metadata": {},
   "outputs": [],
   "source": [
    "pickle.dump(model, open(\"./models/thyroid.pkl\",'wb'))"
   ]
  },
  {
   "cell_type": "code",
   "execution_count": null,
   "id": "b69c6f6d",
   "metadata": {},
   "outputs": [],
   "source": []
  }
 ],
 "metadata": {
  "kernelspec": {
   "display_name": "Python 3 (ipykernel)",
   "language": "python",
   "name": "python3"
  },
  "language_info": {
   "codemirror_mode": {
    "name": "ipython",
    "version": 3
   },
   "file_extension": ".py",
   "mimetype": "text/x-python",
   "name": "python",
   "nbconvert_exporter": "python",
   "pygments_lexer": "ipython3",
   "version": "3.9.12"
  }
 },
 "nbformat": 4,
 "nbformat_minor": 5
}
