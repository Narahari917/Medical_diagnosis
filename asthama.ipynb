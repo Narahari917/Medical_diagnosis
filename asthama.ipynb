{
 "cells": [
  {
   "cell_type": "code",
   "execution_count": 1,
   "id": "085e4963",
   "metadata": {},
   "outputs": [
    {
     "name": "stderr",
     "output_type": "stream",
     "text": [
      "C:\\Users\\narah\\anaconda3\\lib\\site-packages\\scipy\\__init__.py:177: UserWarning: A NumPy version >=1.18.5 and <1.26.0 is required for this version of SciPy (detected version 1.26.1\n",
      "  warnings.warn(f\"A NumPy version >={np_minversion} and <{np_maxversion}\"\n"
     ]
    }
   ],
   "source": [
    "import pandas as pd\n",
    "import matplotlib.pyplot as plt\n",
    "import numpy as np\n",
    "%matplotlib inline\n",
    "import tensorflow as tf\n",
    "from tensorflow.keras.models import Sequential\n",
    "from tensorflow.keras.layers import Dense, Dropout, Activation, Flatten\n",
    "from tensorflow.keras.layers import Conv2D, MaxPooling2D\n",
    "# more info on callbakcs: https://keras.io/callbacks/ model saver is cool too.\n",
    "from tensorflow.keras.callbacks import TensorBoard\n",
    "from imblearn.over_sampling import RandomOverSampler\n",
    "import pickle\n",
    "import time"
   ]
  },
  {
   "cell_type": "code",
   "execution_count": 2,
   "id": "421194ea",
   "metadata": {},
   "outputs": [],
   "source": [
    "df = pd.read_csv('./datasets/asthma.csv')"
   ]
  },
  {
   "cell_type": "code",
   "execution_count": 3,
   "id": "234bd4ee",
   "metadata": {},
   "outputs": [
    {
     "data": {
      "text/html": [
       "<div>\n",
       "<style scoped>\n",
       "    .dataframe tbody tr th:only-of-type {\n",
       "        vertical-align: middle;\n",
       "    }\n",
       "\n",
       "    .dataframe tbody tr th {\n",
       "        vertical-align: top;\n",
       "    }\n",
       "\n",
       "    .dataframe thead th {\n",
       "        text-align: right;\n",
       "    }\n",
       "</style>\n",
       "<table border=\"1\" class=\"dataframe\">\n",
       "  <thead>\n",
       "    <tr style=\"text-align: right;\">\n",
       "      <th></th>\n",
       "      <th>Patient_ID</th>\n",
       "      <th>Age</th>\n",
       "      <th>Gender</th>\n",
       "      <th>Smoking_Status</th>\n",
       "      <th>Asthma_Diagnosis</th>\n",
       "      <th>Medication</th>\n",
       "      <th>Peak_Flow</th>\n",
       "    </tr>\n",
       "  </thead>\n",
       "  <tbody>\n",
       "    <tr>\n",
       "      <th>0</th>\n",
       "      <td>1</td>\n",
       "      <td>26</td>\n",
       "      <td>Female</td>\n",
       "      <td>Non-Smoker</td>\n",
       "      <td>Yes</td>\n",
       "      <td>Inhaler</td>\n",
       "      <td>175</td>\n",
       "    </tr>\n",
       "    <tr>\n",
       "      <th>1</th>\n",
       "      <td>2</td>\n",
       "      <td>52</td>\n",
       "      <td>Female</td>\n",
       "      <td>Ex-Smoker</td>\n",
       "      <td>No</td>\n",
       "      <td>None</td>\n",
       "      <td>156</td>\n",
       "    </tr>\n",
       "    <tr>\n",
       "      <th>2</th>\n",
       "      <td>3</td>\n",
       "      <td>56</td>\n",
       "      <td>Female</td>\n",
       "      <td>Ex-Smoker</td>\n",
       "      <td>Yes</td>\n",
       "      <td>Inhaler</td>\n",
       "      <td>236</td>\n",
       "    </tr>\n",
       "    <tr>\n",
       "      <th>3</th>\n",
       "      <td>4</td>\n",
       "      <td>55</td>\n",
       "      <td>Male</td>\n",
       "      <td>Current Smoker</td>\n",
       "      <td>Yes</td>\n",
       "      <td>Controller Medication</td>\n",
       "      <td>378</td>\n",
       "    </tr>\n",
       "    <tr>\n",
       "      <th>4</th>\n",
       "      <td>5</td>\n",
       "      <td>43</td>\n",
       "      <td>Female</td>\n",
       "      <td>Current Smoker</td>\n",
       "      <td>No</td>\n",
       "      <td>None</td>\n",
       "      <td>159</td>\n",
       "    </tr>\n",
       "  </tbody>\n",
       "</table>\n",
       "</div>"
      ],
      "text/plain": [
       "   Patient_ID  Age  Gender  Smoking_Status Asthma_Diagnosis  \\\n",
       "0           1   26  Female      Non-Smoker              Yes   \n",
       "1           2   52  Female       Ex-Smoker               No   \n",
       "2           3   56  Female       Ex-Smoker              Yes   \n",
       "3           4   55    Male  Current Smoker              Yes   \n",
       "4           5   43  Female  Current Smoker               No   \n",
       "\n",
       "              Medication  Peak_Flow  \n",
       "0                Inhaler        175  \n",
       "1                   None        156  \n",
       "2                Inhaler        236  \n",
       "3  Controller Medication        378  \n",
       "4                   None        159  "
      ]
     },
     "execution_count": 3,
     "metadata": {},
     "output_type": "execute_result"
    }
   ],
   "source": [
    "df.head()"
   ]
  },
  {
   "cell_type": "code",
   "execution_count": 4,
   "id": "8845118e",
   "metadata": {},
   "outputs": [
    {
     "data": {
      "text/plain": [
       "Patient_ID          0\n",
       "Age                 0\n",
       "Gender              0\n",
       "Smoking_Status      0\n",
       "Asthma_Diagnosis    0\n",
       "Medication          0\n",
       "Peak_Flow           0\n",
       "dtype: int64"
      ]
     },
     "execution_count": 4,
     "metadata": {},
     "output_type": "execute_result"
    }
   ],
   "source": [
    "df.isnull().sum()"
   ]
  },
  {
   "cell_type": "code",
   "execution_count": 5,
   "id": "7726952f",
   "metadata": {},
   "outputs": [
    {
     "data": {
      "text/plain": [
       "(300, 7)"
      ]
     },
     "execution_count": 5,
     "metadata": {},
     "output_type": "execute_result"
    }
   ],
   "source": [
    "df.shape"
   ]
  },
  {
   "cell_type": "code",
   "execution_count": 6,
   "id": "ca83ab41",
   "metadata": {},
   "outputs": [
    {
     "name": "stdout",
     "output_type": "stream",
     "text": [
      "<class 'pandas.core.frame.DataFrame'>\n",
      "RangeIndex: 300 entries, 0 to 299\n",
      "Data columns (total 7 columns):\n",
      " #   Column            Non-Null Count  Dtype \n",
      "---  ------            --------------  ----- \n",
      " 0   Patient_ID        300 non-null    int64 \n",
      " 1   Age               300 non-null    int64 \n",
      " 2   Gender            300 non-null    object\n",
      " 3   Smoking_Status    300 non-null    object\n",
      " 4   Asthma_Diagnosis  300 non-null    object\n",
      " 5   Medication        300 non-null    object\n",
      " 6   Peak_Flow         300 non-null    int64 \n",
      "dtypes: int64(3), object(4)\n",
      "memory usage: 16.5+ KB\n"
     ]
    }
   ],
   "source": [
    "df.info()"
   ]
  },
  {
   "cell_type": "code",
   "execution_count": 7,
   "id": "ba1aeeeb",
   "metadata": {},
   "outputs": [],
   "source": [
    "from sklearn.preprocessing import LabelEncoder\n",
    "for column in ['Gender','Smoking_Status','Asthma_Diagnosis','Medication']:\n",
    "    df[column] = LabelEncoder().fit_transform(df[column])"
   ]
  },
  {
   "cell_type": "code",
   "execution_count": 8,
   "id": "fcebdb4e",
   "metadata": {},
   "outputs": [
    {
     "data": {
      "text/html": [
       "<div>\n",
       "<style scoped>\n",
       "    .dataframe tbody tr th:only-of-type {\n",
       "        vertical-align: middle;\n",
       "    }\n",
       "\n",
       "    .dataframe tbody tr th {\n",
       "        vertical-align: top;\n",
       "    }\n",
       "\n",
       "    .dataframe thead th {\n",
       "        text-align: right;\n",
       "    }\n",
       "</style>\n",
       "<table border=\"1\" class=\"dataframe\">\n",
       "  <thead>\n",
       "    <tr style=\"text-align: right;\">\n",
       "      <th></th>\n",
       "      <th>Patient_ID</th>\n",
       "      <th>Age</th>\n",
       "      <th>Gender</th>\n",
       "      <th>Smoking_Status</th>\n",
       "      <th>Asthma_Diagnosis</th>\n",
       "      <th>Medication</th>\n",
       "      <th>Peak_Flow</th>\n",
       "    </tr>\n",
       "  </thead>\n",
       "  <tbody>\n",
       "    <tr>\n",
       "      <th>0</th>\n",
       "      <td>1</td>\n",
       "      <td>26</td>\n",
       "      <td>0</td>\n",
       "      <td>2</td>\n",
       "      <td>1</td>\n",
       "      <td>1</td>\n",
       "      <td>175</td>\n",
       "    </tr>\n",
       "    <tr>\n",
       "      <th>1</th>\n",
       "      <td>2</td>\n",
       "      <td>52</td>\n",
       "      <td>0</td>\n",
       "      <td>1</td>\n",
       "      <td>0</td>\n",
       "      <td>2</td>\n",
       "      <td>156</td>\n",
       "    </tr>\n",
       "    <tr>\n",
       "      <th>2</th>\n",
       "      <td>3</td>\n",
       "      <td>56</td>\n",
       "      <td>0</td>\n",
       "      <td>1</td>\n",
       "      <td>1</td>\n",
       "      <td>1</td>\n",
       "      <td>236</td>\n",
       "    </tr>\n",
       "    <tr>\n",
       "      <th>3</th>\n",
       "      <td>4</td>\n",
       "      <td>55</td>\n",
       "      <td>1</td>\n",
       "      <td>0</td>\n",
       "      <td>1</td>\n",
       "      <td>0</td>\n",
       "      <td>378</td>\n",
       "    </tr>\n",
       "    <tr>\n",
       "      <th>4</th>\n",
       "      <td>5</td>\n",
       "      <td>43</td>\n",
       "      <td>0</td>\n",
       "      <td>0</td>\n",
       "      <td>0</td>\n",
       "      <td>2</td>\n",
       "      <td>159</td>\n",
       "    </tr>\n",
       "  </tbody>\n",
       "</table>\n",
       "</div>"
      ],
      "text/plain": [
       "   Patient_ID  Age  Gender  Smoking_Status  Asthma_Diagnosis  Medication  \\\n",
       "0           1   26       0               2                 1           1   \n",
       "1           2   52       0               1                 0           2   \n",
       "2           3   56       0               1                 1           1   \n",
       "3           4   55       1               0                 1           0   \n",
       "4           5   43       0               0                 0           2   \n",
       "\n",
       "   Peak_Flow  \n",
       "0        175  \n",
       "1        156  \n",
       "2        236  \n",
       "3        378  \n",
       "4        159  "
      ]
     },
     "execution_count": 8,
     "metadata": {},
     "output_type": "execute_result"
    }
   ],
   "source": [
    "df.head()"
   ]
  },
  {
   "cell_type": "code",
   "execution_count": 9,
   "id": "bf3a60a6",
   "metadata": {},
   "outputs": [
    {
     "name": "stdout",
     "output_type": "stream",
     "text": [
      "<class 'pandas.core.frame.DataFrame'>\n",
      "RangeIndex: 300 entries, 0 to 299\n",
      "Data columns (total 7 columns):\n",
      " #   Column            Non-Null Count  Dtype\n",
      "---  ------            --------------  -----\n",
      " 0   Patient_ID        300 non-null    int64\n",
      " 1   Age               300 non-null    int64\n",
      " 2   Gender            300 non-null    int32\n",
      " 3   Smoking_Status    300 non-null    int32\n",
      " 4   Asthma_Diagnosis  300 non-null    int32\n",
      " 5   Medication        300 non-null    int32\n",
      " 6   Peak_Flow         300 non-null    int64\n",
      "dtypes: int32(4), int64(3)\n",
      "memory usage: 11.8 KB\n"
     ]
    }
   ],
   "source": [
    "df.info()"
   ]
  },
  {
   "cell_type": "code",
   "execution_count": 10,
   "id": "eaa5ce40",
   "metadata": {},
   "outputs": [],
   "source": [
    "X = df.drop(columns=['Asthma_Diagnosis'])\n",
    "y = df['Asthma_Diagnosis']"
   ]
  },
  {
   "cell_type": "code",
   "execution_count": 11,
   "id": "101b6829",
   "metadata": {},
   "outputs": [],
   "source": [
    "y = np.reshape(y.values,(y.shape[0],1))"
   ]
  },
  {
   "cell_type": "code",
   "execution_count": 12,
   "id": "0fb7d9bb",
   "metadata": {},
   "outputs": [],
   "source": [
    "from sklearn.preprocessing import StandardScaler\n",
    "scaler = StandardScaler()\n",
    "X = scaler.fit_transform(X)\n",
    "new_data = np.hstack((X, np.reshape(y[:], (-1, 1))))\n",
    "transformed_df = pd.DataFrame(df, columns = df.columns)"
   ]
  },
  {
   "cell_type": "code",
   "execution_count": 13,
   "id": "c35c5dab",
   "metadata": {},
   "outputs": [
    {
     "data": {
      "text/plain": [
       "(300, 6)"
      ]
     },
     "execution_count": 13,
     "metadata": {},
     "output_type": "execute_result"
    }
   ],
   "source": [
    "X.shape"
   ]
  },
  {
   "cell_type": "code",
   "execution_count": 14,
   "id": "a5dc1e4d",
   "metadata": {},
   "outputs": [
    {
     "data": {
      "text/plain": [
       "(300, 1)"
      ]
     },
     "execution_count": 14,
     "metadata": {},
     "output_type": "execute_result"
    }
   ],
   "source": [
    "y.shape"
   ]
  },
  {
   "cell_type": "code",
   "execution_count": 15,
   "id": "4294fbe6",
   "metadata": {},
   "outputs": [
    {
     "name": "stdout",
     "output_type": "stream",
     "text": [
      "Epoch 1/20\n",
      "42/42 [==============================] - 2s 14ms/step - loss: 0.5084 - accuracy: 0.9143 - val_loss: 0.2942 - val_accuracy: 0.9889\n",
      "Epoch 2/20\n",
      "42/42 [==============================] - 0s 7ms/step - loss: 0.1394 - accuracy: 1.0000 - val_loss: 0.0699 - val_accuracy: 1.0000\n",
      "Epoch 3/20\n",
      "42/42 [==============================] - 0s 6ms/step - loss: 0.0209 - accuracy: 1.0000 - val_loss: 0.0571 - val_accuracy: 1.0000\n",
      "Epoch 4/20\n",
      "42/42 [==============================] - 0s 7ms/step - loss: 0.0066 - accuracy: 1.0000 - val_loss: 0.0347 - val_accuracy: 1.0000\n",
      "Epoch 5/20\n",
      "42/42 [==============================] - 0s 6ms/step - loss: 0.0031 - accuracy: 1.0000 - val_loss: 0.0271 - val_accuracy: 1.0000\n",
      "Epoch 6/20\n",
      "42/42 [==============================] - 0s 7ms/step - loss: 0.0018 - accuracy: 1.0000 - val_loss: 0.0191 - val_accuracy: 1.0000\n",
      "Epoch 7/20\n",
      "42/42 [==============================] - 0s 6ms/step - loss: 0.0011 - accuracy: 1.0000 - val_loss: 0.0141 - val_accuracy: 1.0000\n",
      "Epoch 8/20\n",
      "42/42 [==============================] - 0s 7ms/step - loss: 7.7209e-04 - accuracy: 1.0000 - val_loss: 0.0116 - val_accuracy: 1.0000\n",
      "Epoch 9/20\n",
      "42/42 [==============================] - 0s 7ms/step - loss: 5.6826e-04 - accuracy: 1.0000 - val_loss: 0.0090 - val_accuracy: 1.0000\n",
      "Epoch 10/20\n",
      "42/42 [==============================] - 0s 7ms/step - loss: 4.3577e-04 - accuracy: 1.0000 - val_loss: 0.0079 - val_accuracy: 1.0000\n",
      "Epoch 11/20\n",
      "42/42 [==============================] - 0s 8ms/step - loss: 3.4267e-04 - accuracy: 1.0000 - val_loss: 0.0065 - val_accuracy: 1.0000\n",
      "Epoch 12/20\n",
      "42/42 [==============================] - 0s 7ms/step - loss: 2.7752e-04 - accuracy: 1.0000 - val_loss: 0.0055 - val_accuracy: 1.0000\n",
      "Epoch 13/20\n",
      "42/42 [==============================] - 0s 9ms/step - loss: 2.2941e-04 - accuracy: 1.0000 - val_loss: 0.0047 - val_accuracy: 1.0000\n",
      "Epoch 14/20\n",
      "42/42 [==============================] - 0s 9ms/step - loss: 1.9350e-04 - accuracy: 1.0000 - val_loss: 0.0040 - val_accuracy: 1.0000\n",
      "Epoch 15/20\n",
      "42/42 [==============================] - 0s 7ms/step - loss: 1.6505e-04 - accuracy: 1.0000 - val_loss: 0.0036 - val_accuracy: 1.0000\n",
      "Epoch 16/20\n",
      "42/42 [==============================] - 0s 6ms/step - loss: 1.4205e-04 - accuracy: 1.0000 - val_loss: 0.0032 - val_accuracy: 1.0000\n",
      "Epoch 17/20\n",
      "42/42 [==============================] - 0s 7ms/step - loss: 1.2367e-04 - accuracy: 1.0000 - val_loss: 0.0029 - val_accuracy: 1.0000\n",
      "Epoch 18/20\n",
      "42/42 [==============================] - 0s 6ms/step - loss: 1.0883e-04 - accuracy: 1.0000 - val_loss: 0.0025 - val_accuracy: 1.0000\n",
      "Epoch 19/20\n",
      "42/42 [==============================] - 0s 6ms/step - loss: 9.6266e-05 - accuracy: 1.0000 - val_loss: 0.0023 - val_accuracy: 1.0000\n",
      "Epoch 20/20\n",
      "42/42 [==============================] - 0s 7ms/step - loss: 8.5892e-05 - accuracy: 1.0000 - val_loss: 0.0021 - val_accuracy: 1.0000\n"
     ]
    }
   ],
   "source": [
    "dense_layers = [2]\n",
    "layer_sizes = [128]\n",
    "\n",
    "\n",
    "for dense_layer in dense_layers:\n",
    "    for layer_size in layer_sizes:\n",
    "        model = Sequential()\n",
    "        model.add(Activation('relu'))\n",
    "        model.add(Flatten())\n",
    "\n",
    "        for _ in range(dense_layer):\n",
    "            model.add(Dense(layer_size))\n",
    "            model.add(Activation('relu'))\n",
    "\n",
    "        model.add(Dense(1))\n",
    "        model.add(Activation('sigmoid'))\n",
    "        NAME = \"{}-nodes-{}-dense-{}\".format( layer_size, dense_layer, int(time.time()))\n",
    "        tensorboard = TensorBoard(log_dir=\"logs/{}\".format(NAME))\n",
    "\n",
    "        model.compile(loss='binary_crossentropy',optimizer='adam',metrics=['accuracy'],\n",
    "                          )\n",
    "        model.fit(X, y,batch_size=5,epochs=20,validation_split = 0.3,callbacks=[tensorboard])"
   ]
  },
  {
   "cell_type": "code",
   "execution_count": 16,
   "id": "d6efc371",
   "metadata": {},
   "outputs": [
    {
     "name": "stdout",
     "output_type": "stream",
     "text": [
      "Model: \"sequential\"\n",
      "_________________________________________________________________\n",
      " Layer (type)                Output Shape              Param #   \n",
      "=================================================================\n",
      " activation (Activation)     (5, 6)                    0         \n",
      "                                                                 \n",
      " flatten (Flatten)           (5, 6)                    0         \n",
      "                                                                 \n",
      " dense (Dense)               (5, 128)                  896       \n",
      "                                                                 \n",
      " activation_1 (Activation)   (5, 128)                  0         \n",
      "                                                                 \n",
      " dense_1 (Dense)             (5, 128)                  16512     \n",
      "                                                                 \n",
      " activation_2 (Activation)   (5, 128)                  0         \n",
      "                                                                 \n",
      " dense_2 (Dense)             (5, 1)                    129       \n",
      "                                                                 \n",
      " activation_3 (Activation)   (5, 1)                    0         \n",
      "                                                                 \n",
      "=================================================================\n",
      "Total params: 17537 (68.50 KB)\n",
      "Trainable params: 17537 (68.50 KB)\n",
      "Non-trainable params: 0 (0.00 Byte)\n",
      "_________________________________________________________________\n"
     ]
    }
   ],
   "source": [
    "model.summary()"
   ]
  },
  {
   "cell_type": "code",
   "execution_count": null,
   "id": "805125c4",
   "metadata": {},
   "outputs": [],
   "source": []
  }
 ],
 "metadata": {
  "kernelspec": {
   "display_name": "Python 3 (ipykernel)",
   "language": "python",
   "name": "python3"
  },
  "language_info": {
   "codemirror_mode": {
    "name": "ipython",
    "version": 3
   },
   "file_extension": ".py",
   "mimetype": "text/x-python",
   "name": "python",
   "nbconvert_exporter": "python",
   "pygments_lexer": "ipython3",
   "version": "3.9.12"
  }
 },
 "nbformat": 4,
 "nbformat_minor": 5
}
